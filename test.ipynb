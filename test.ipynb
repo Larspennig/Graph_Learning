{
 "cells": [
  {
   "cell_type": "code",
   "execution_count": 2,
   "metadata": {},
   "outputs": [],
   "source": [
    "from lightning.pytorch.loggers import CSVLogger, WandbLogger\n",
    "from lightning.pytorch.callbacks import ModelCheckpoint\n",
    "from loaders.Mdndataloader import Modelnet40\n",
    "from model.GNN_inf import Lightning_GNN\n",
    "from sklearn.model_selection import train_test_split\n",
    "import torch_geometric as tg\n",
    "import numpy as np\n",
    "import lightning as pl\n",
    "import datetime\n",
    "import yaml\n",
    "import os\n",
    "import torch"
   ]
  },
  {
   "cell_type": "code",
   "execution_count": 4,
   "metadata": {},
   "outputs": [
    {
     "data": {
      "text/plain": [
       "<All keys matched successfully>"
      ]
     },
     "execution_count": 4,
     "metadata": {},
     "output_type": "execute_result"
    }
   ],
   "source": [
    "# Load array with params from config.yml\n",
    "with open('config.yml', 'r') as f:\n",
    "    config = yaml.safe_load(f)\n",
    "\n",
    "# Data setup\n",
    "dataset = Modelnet40(root=config['root'],\n",
    "                     classes_yml='classes.yml',\n",
    "                     split='test')\n",
    "\n",
    "test_loader = tg.loader.DataLoader(dataset,\n",
    "                                    batch_size=config['batch_size'],\n",
    "                                    num_workers=4,\n",
    "                                    shuffle=False)\n",
    "\n",
    "# Model setup\n",
    "GNN_model = Lightning_GNN(config=config)\n",
    "GNN_model.to('cuda')\n",
    "GNN_model.load_state_dict(torch.load('/home/lars/curr.ckpt')['state_dict'])"
   ]
  },
  {
   "cell_type": "code",
   "execution_count": 5,
   "metadata": {},
   "outputs": [
    {
     "data": {
      "text/plain": [
       "Lightning_GNN(\n",
       "  (model): TransformerGNN(\n",
       "    (enc1): Enc_block(\n",
       "      (pconv): PointTrans_Layer(\n",
       "        (attn): MLP(32, 32, 32)\n",
       "        (pos): MLP(3, 32, 32)\n",
       "        (conv): PointTransformerConv(3, 32)\n",
       "      )\n",
       "      (downlayer): PointTrans_Layer_down(\n",
       "        (linear): Linear(in_features=32, out_features=32, bias=True)\n",
       "        (down): Sequential(\n",
       "          (0): Linear(in_features=32, out_features=32, bias=True)\n",
       "          (1): BatchNorm1d(32, eps=1e-05, momentum=0.1, affine=True, track_running_stats=True)\n",
       "          (2): ReLU()\n",
       "        )\n",
       "      )\n",
       "    )\n",
       "    (enc2): Enc_block(\n",
       "      (pconv): PointTrans_Layer(\n",
       "        (attn): MLP(64, 64, 64)\n",
       "        (pos): MLP(3, 64, 64)\n",
       "        (conv): PointTransformerConv(32, 64)\n",
       "      )\n",
       "      (downlayer): PointTrans_Layer_down(\n",
       "        (linear): Linear(in_features=64, out_features=64, bias=True)\n",
       "        (down): Sequential(\n",
       "          (0): Linear(in_features=64, out_features=64, bias=True)\n",
       "          (1): BatchNorm1d(64, eps=1e-05, momentum=0.1, affine=True, track_running_stats=True)\n",
       "          (2): ReLU()\n",
       "        )\n",
       "      )\n",
       "    )\n",
       "    (enc3): Enc_block(\n",
       "      (pconv): PointTrans_Layer(\n",
       "        (attn): MLP(128, 128, 128)\n",
       "        (pos): MLP(3, 128, 128)\n",
       "        (conv): PointTransformerConv(64, 128)\n",
       "      )\n",
       "      (downlayer): PointTrans_Layer_down(\n",
       "        (linear): Linear(in_features=128, out_features=128, bias=True)\n",
       "        (down): Sequential(\n",
       "          (0): Linear(in_features=128, out_features=128, bias=True)\n",
       "          (1): BatchNorm1d(128, eps=1e-05, momentum=0.1, affine=True, track_running_stats=True)\n",
       "          (2): ReLU()\n",
       "        )\n",
       "      )\n",
       "    )\n",
       "    (enc4): Enc_block(\n",
       "      (pconv): PointTrans_Layer(\n",
       "        (attn): MLP(256, 256, 256)\n",
       "        (pos): MLP(3, 256, 256)\n",
       "        (conv): PointTransformerConv(128, 256)\n",
       "      )\n",
       "      (downlayer): PointTrans_Layer_down(\n",
       "        (linear): Linear(in_features=256, out_features=256, bias=True)\n",
       "        (down): Sequential(\n",
       "          (0): Linear(in_features=256, out_features=256, bias=True)\n",
       "          (1): BatchNorm1d(256, eps=1e-05, momentum=0.1, affine=True, track_running_stats=True)\n",
       "          (2): ReLU()\n",
       "        )\n",
       "      )\n",
       "    )\n",
       "    (enc5): Enc_block(\n",
       "      (pconv): PointTrans_Layer(\n",
       "        (attn): MLP(512, 512, 512)\n",
       "        (pos): MLP(3, 512, 512)\n",
       "        (conv): PointTransformerConv(256, 512)\n",
       "      )\n",
       "      (downlayer): PointTrans_Layer_down(\n",
       "        (linear): Linear(in_features=512, out_features=512, bias=True)\n",
       "        (down): Sequential(\n",
       "          (0): Linear(in_features=512, out_features=512, bias=True)\n",
       "          (1): BatchNorm1d(512, eps=1e-05, momentum=0.1, affine=True, track_running_stats=True)\n",
       "          (2): ReLU()\n",
       "        )\n",
       "      )\n",
       "    )\n",
       "    (output_head): Sequential(\n",
       "      (0): Linear(in_features=512, out_features=512, bias=True)\n",
       "      (1): BatchNorm1d(512, eps=1e-05, momentum=0.1, affine=True, track_running_stats=True)\n",
       "      (2): ReLU()\n",
       "      (3): Linear(in_features=512, out_features=40, bias=True)\n",
       "      (4): BatchNorm1d(40, eps=1e-05, momentum=0.1, affine=True, track_running_stats=True)\n",
       "      (5): ReLU()\n",
       "    )\n",
       "  )\n",
       "  (loss_fn): CrossEntropyLoss()\n",
       ")"
      ]
     },
     "execution_count": 5,
     "metadata": {},
     "output_type": "execute_result"
    }
   ],
   "source": [
    "GNN_model.to('cpu')"
   ]
  },
  {
   "cell_type": "code",
   "execution_count": 6,
   "metadata": {},
   "outputs": [
    {
     "name": "stderr",
     "output_type": "stream",
     "text": [
      "GPU available: True (cuda), used: False\n",
      "TPU available: False, using: 0 TPU cores\n",
      "IPU available: False, using: 0 IPUs\n",
      "HPU available: False, using: 0 HPUs\n",
      "/home/lars/anaconda3/envs/PCloud/lib/python3.11/site-packages/lightning/pytorch/trainer/setup.py:187: GPU available but not used. You can set it by doing `Trainer(accelerator='gpu')`.\n",
      "/home/lars/anaconda3/envs/PCloud/lib/python3.11/site-packages/lightning/pytorch/trainer/connectors/logger_connector/logger_connector.py:75: Starting from v1.9.0, `tensorboardX` has been removed as a dependency of the `lightning.pytorch` package, due to potential conflicts with other packages in the ML ecosystem. For this reason, `logger=True` will use `CSVLogger` as the default logger, unless the `tensorboard` or `tensorboardX` packages are found. Please `pip install lightning[extra]` or one of them to enable TensorBoard support by default\n"
     ]
    },
    {
     "data": {
      "application/vnd.jupyter.widget-view+json": {
       "model_id": "a40e5ae846a244d580bca0dafdac2d77",
       "version_major": 2,
       "version_minor": 0
      },
      "text/plain": [
       "Testing: |          | 0/? [00:00<?, ?it/s]"
      ]
     },
     "metadata": {},
     "output_type": "display_data"
    },
    {
     "name": "stdout",
     "output_type": "stream",
     "text": [
      "────────────────────────────────────────────────────────────────────────────────────────────────────────────────────────\n",
      "       Test metric             DataLoader 0\n",
      "────────────────────────────────────────────────────────────────────────────────────────────────────────────────────────\n",
      "        test_acc            0.8379032015800476\n",
      "────────────────────────────────────────────────────────────────────────────────────────────────────────────────────────\n"
     ]
    },
    {
     "data": {
      "text/plain": [
       "[{'test_acc': 0.8379032015800476}]"
      ]
     },
     "execution_count": 6,
     "metadata": {},
     "output_type": "execute_result"
    }
   ],
   "source": [
    "# Test\n",
    "trainer = pl.Trainer(max_epochs=1,\n",
    "                     accelerator='cpu',\n",
    "                     log_every_n_steps=1)\n",
    "\n",
    "trainer.test(GNN_model,\n",
    "            dataloaders=train_loader) "
   ]
  }
 ],
 "metadata": {
  "kernelspec": {
   "display_name": "PCloud",
   "language": "python",
   "name": "python3"
  },
  "language_info": {
   "codemirror_mode": {
    "name": "ipython",
    "version": 3
   },
   "file_extension": ".py",
   "mimetype": "text/x-python",
   "name": "python",
   "nbconvert_exporter": "python",
   "pygments_lexer": "ipython3",
   "version": "3.11.9"
  }
 },
 "nbformat": 4,
 "nbformat_minor": 2
}
