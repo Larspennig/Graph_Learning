{
 "cells": [
  {
   "cell_type": "code",
   "execution_count": 1,
   "metadata": {},
   "outputs": [],
   "source": [
    "from lightning.pytorch.callbacks import ModelCheckpoint\n",
    "from loaders.Sndataloader import SNpart_Dataset\n",
    "from model.GNN_inf_seg import Lightning_GNN\n",
    "import torch_geometric as tg\n",
    "import numpy as np\n",
    "import lightning as pl\n",
    "import datetime\n",
    "import yaml\n",
    "import os\n",
    "import wandb\n",
    "import torch"
   ]
  },
  {
   "cell_type": "code",
   "execution_count": 2,
   "metadata": {},
   "outputs": [
    {
     "name": "stderr",
     "output_type": "stream",
     "text": [
      "GPU available: True (cuda), used: False\n",
      "TPU available: False, using: 0 TPU cores\n",
      "HPU available: False, using: 0 HPUs\n",
      "/home/lars/anaconda3/envs/PCloud/lib/python3.12/site-packages/lightning/pytorch/trainer/setup.py:177: GPU available but not used. You can set it by doing `Trainer(accelerator='gpu')`.\n",
      "/home/lars/anaconda3/envs/PCloud/lib/python3.12/site-packages/lightning/pytorch/trainer/connectors/logger_connector/logger_connector.py:75: Starting from v1.9.0, `tensorboardX` has been removed as a dependency of the `lightning.pytorch` package, due to potential conflicts with other packages in the ML ecosystem. For this reason, `logger=True` will use `CSVLogger` as the default logger, unless the `tensorboard` or `tensorboardX` packages are found. Please `pip install lightning[extra]` or one of them to enable TensorBoard support by default\n"
     ]
    },
    {
     "data": {
      "application/vnd.jupyter.widget-view+json": {
       "model_id": "9f0bf7757fa544cb8e5a78e06ea1c3e6",
       "version_major": 2,
       "version_minor": 0
      },
      "text/plain": [
       "Testing: |          | 0/? [00:00<?, ?it/s]"
      ]
     },
     "metadata": {},
     "output_type": "display_data"
    },
    {
     "name": "stderr",
     "output_type": "stream",
     "text": [
      "/home/lars/anaconda3/envs/PCloud/lib/python3.12/site-packages/lightning/pytorch/trainer/call.py:54: Detected KeyboardInterrupt, attempting graceful shutdown...\n"
     ]
    }
   ],
   "source": [
    "with open('configs/config_SNpart.yml', 'r') as f:\n",
    "    config = yaml.safe_load(f)\n",
    "\n",
    "config['batch_size'] = 10\n",
    "\n",
    "# Data setup\n",
    "dataset_test = SNpart_Dataset(root=config['root'],\n",
    "                                 split='test')\n",
    "\n",
    "test_loader = tg.loader.DataLoader(dataset_test,\n",
    "                                  batch_size=config['batch_size'],\n",
    "                                  num_workers=2)\n",
    "\n",
    "# Model setup\n",
    "GNN_model = Lightning_GNN(config=config)\n",
    "GNN_model.load_state_dict(torch.load('/home/lars/SN_outputs/output_SN_standard/2024-07-02_09.09.15/epoch=128-train_loss=0.32.ckpt')['state_dict'])\n",
    "GNN_model.to('cpu')\n",
    "\n",
    "# Test\n",
    "trainer = pl.Trainer(max_epochs=1,\n",
    "                     accelerator='cpu',\n",
    "                     log_every_n_steps=1)\n",
    "\n",
    "trainer.test(GNN_model,\n",
    "            dataloaders=test_loader) "
   ]
  }
 ],
 "metadata": {
  "kernelspec": {
   "display_name": "PCloud",
   "language": "python",
   "name": "python3"
  },
  "language_info": {
   "codemirror_mode": {
    "name": "ipython",
    "version": 3
   },
   "file_extension": ".py",
   "mimetype": "text/x-python",
   "name": "python",
   "nbconvert_exporter": "python",
   "pygments_lexer": "ipython3",
   "version": "3.12.2"
  }
 },
 "nbformat": 4,
 "nbformat_minor": 2
}
