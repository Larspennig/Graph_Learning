{
 "cells": [
  {
   "cell_type": "code",
   "execution_count": 1,
   "metadata": {},
   "outputs": [
    {
     "name": "stderr",
     "output_type": "stream",
     "text": [
      "/home/lars/anaconda3/envs/PCloud/lib/python3.12/site-packages/torch/cuda/__init__.py:619: UserWarning: Can't initialize NVML\n",
      "  warnings.warn(\"Can't initialize NVML\")\n"
     ]
    }
   ],
   "source": [
    "from lightning.pytorch.loggers import CSVLogger, WandbLogger\n",
    "from lightning.pytorch.callbacks import ModelCheckpoint\n",
    "from loaders.Sdataloader import Stanford_Dataset\n",
    "from model.GNN_inf_seg import Lightning_GNN\n",
    "from sklearn.model_selection import train_test_split\n",
    "import torch_geometric as tg\n",
    "import numpy as np\n",
    "import lightning as pl\n",
    "import datetime\n",
    "import yaml\n",
    "import os\n",
    "import wandb\n",
    "import torch\n",
    "#wandb.login(key='446bb0e42e6ee0d7b7a2224d3b524a036009d8ad')\n",
    "# wandb.login()"
   ]
  },
  {
   "cell_type": "code",
   "execution_count": 2,
   "metadata": {},
   "outputs": [],
   "source": [
    "# Load array with params from config.yml\n",
    "with open('config.yml', 'r') as f:\n",
    "    config = yaml.safe_load(f)\n",
    "\n",
    "# Data setup\n",
    "dataset_test = Stanford_Dataset(root='Stanford3dDataset',\n",
    "                                 split='test')\n",
    "\n",
    "# dataset_val = Stanford_Dataset(root=config['root'])\n",
    "\n",
    "test_loader = tg.loader.DataLoader(dataset_test,\n",
    "                                    batch_size=config['batch_size'],\n",
    "                                    num_workers=2,\n",
    "                                    shuffle=False)"
   ]
  },
  {
   "cell_type": "code",
   "execution_count": 3,
   "metadata": {},
   "outputs": [],
   "source": [
    "state_dict = torch.load('/home/lars/output_seg/out_2/epoch=1510-train_loss=0.29.ckpt')['state_dict']"
   ]
  },
  {
   "cell_type": "code",
   "execution_count": 7,
   "metadata": {},
   "outputs": [
    {
     "data": {
      "text/plain": [
       "odict_keys(['model.linear.weight', 'model.linear.bias', 'model.pconv_in.linear_up.weight', 'model.pconv_in.linear_up.bias', 'model.pconv_in.attn.lins.0.weight', 'model.pconv_in.attn.lins.0.bias', 'model.pconv_in.attn.lins.1.weight', 'model.pconv_in.attn.lins.1.bias', 'model.pconv_in.attn.norms.0.module.weight', 'model.pconv_in.attn.norms.0.module.bias', 'model.pconv_in.attn.norms.0.module.running_mean', 'model.pconv_in.attn.norms.0.module.running_var', 'model.pconv_in.attn.norms.0.module.num_batches_tracked', 'model.pconv_in.pos.lins.0.weight', 'model.pconv_in.pos.lins.0.bias', 'model.pconv_in.conv.pos_nn.lins.0.weight', 'model.pconv_in.conv.pos_nn.lins.0.bias', 'model.pconv_in.conv.attn_nn.lins.0.weight', 'model.pconv_in.conv.attn_nn.lins.0.bias', 'model.pconv_in.conv.attn_nn.lins.1.weight', 'model.pconv_in.conv.attn_nn.lins.1.bias', 'model.pconv_in.conv.attn_nn.norms.0.module.weight', 'model.pconv_in.conv.attn_nn.norms.0.module.bias', 'model.pconv_in.conv.attn_nn.norms.0.module.running_mean', 'model.pconv_in.conv.attn_nn.norms.0.module.running_var', 'model.pconv_in.conv.attn_nn.norms.0.module.num_batches_tracked', 'model.pconv_in.conv.lin.weight', 'model.pconv_in.conv.lin_src.weight', 'model.pconv_in.conv.lin_dst.weight', 'model.enc1.downlayer.linear.weight', 'model.enc1.downlayer.linear.bias', 'model.enc1.downlayer.down.0.weight', 'model.enc1.downlayer.down.0.bias', 'model.enc1.downlayer.down.1.weight', 'model.enc1.downlayer.down.1.bias', 'model.enc1.downlayer.down.1.running_mean', 'model.enc1.downlayer.down.1.running_var', 'model.enc1.downlayer.down.1.num_batches_tracked', 'model.enc1.pconv.linear_up.weight', 'model.enc1.pconv.linear_up.bias', 'model.enc1.pconv.attn.lins.0.weight', 'model.enc1.pconv.attn.lins.0.bias', 'model.enc1.pconv.attn.lins.1.weight', 'model.enc1.pconv.attn.lins.1.bias', 'model.enc1.pconv.attn.norms.0.module.weight', 'model.enc1.pconv.attn.norms.0.module.bias', 'model.enc1.pconv.attn.norms.0.module.running_mean', 'model.enc1.pconv.attn.norms.0.module.running_var', 'model.enc1.pconv.attn.norms.0.module.num_batches_tracked', 'model.enc1.pconv.pos.lins.0.weight', 'model.enc1.pconv.pos.lins.0.bias', 'model.enc1.pconv.conv.pos_nn.lins.0.weight', 'model.enc1.pconv.conv.pos_nn.lins.0.bias', 'model.enc1.pconv.conv.attn_nn.lins.0.weight', 'model.enc1.pconv.conv.attn_nn.lins.0.bias', 'model.enc1.pconv.conv.attn_nn.lins.1.weight', 'model.enc1.pconv.conv.attn_nn.lins.1.bias', 'model.enc1.pconv.conv.attn_nn.norms.0.module.weight', 'model.enc1.pconv.conv.attn_nn.norms.0.module.bias', 'model.enc1.pconv.conv.attn_nn.norms.0.module.running_mean', 'model.enc1.pconv.conv.attn_nn.norms.0.module.running_var', 'model.enc1.pconv.conv.attn_nn.norms.0.module.num_batches_tracked', 'model.enc1.pconv.conv.lin.weight', 'model.enc1.pconv.conv.lin_src.weight', 'model.enc1.pconv.conv.lin_dst.weight', 'model.enc2.downlayer.linear.weight', 'model.enc2.downlayer.linear.bias', 'model.enc2.downlayer.down.0.weight', 'model.enc2.downlayer.down.0.bias', 'model.enc2.downlayer.down.1.weight', 'model.enc2.downlayer.down.1.bias', 'model.enc2.downlayer.down.1.running_mean', 'model.enc2.downlayer.down.1.running_var', 'model.enc2.downlayer.down.1.num_batches_tracked', 'model.enc2.pconv.linear_up.weight', 'model.enc2.pconv.linear_up.bias', 'model.enc2.pconv.attn.lins.0.weight', 'model.enc2.pconv.attn.lins.0.bias', 'model.enc2.pconv.attn.lins.1.weight', 'model.enc2.pconv.attn.lins.1.bias', 'model.enc2.pconv.attn.norms.0.module.weight', 'model.enc2.pconv.attn.norms.0.module.bias', 'model.enc2.pconv.attn.norms.0.module.running_mean', 'model.enc2.pconv.attn.norms.0.module.running_var', 'model.enc2.pconv.attn.norms.0.module.num_batches_tracked', 'model.enc2.pconv.pos.lins.0.weight', 'model.enc2.pconv.pos.lins.0.bias', 'model.enc2.pconv.conv.pos_nn.lins.0.weight', 'model.enc2.pconv.conv.pos_nn.lins.0.bias', 'model.enc2.pconv.conv.attn_nn.lins.0.weight', 'model.enc2.pconv.conv.attn_nn.lins.0.bias', 'model.enc2.pconv.conv.attn_nn.lins.1.weight', 'model.enc2.pconv.conv.attn_nn.lins.1.bias', 'model.enc2.pconv.conv.attn_nn.norms.0.module.weight', 'model.enc2.pconv.conv.attn_nn.norms.0.module.bias', 'model.enc2.pconv.conv.attn_nn.norms.0.module.running_mean', 'model.enc2.pconv.conv.attn_nn.norms.0.module.running_var', 'model.enc2.pconv.conv.attn_nn.norms.0.module.num_batches_tracked', 'model.enc2.pconv.conv.lin.weight', 'model.enc2.pconv.conv.lin_src.weight', 'model.enc2.pconv.conv.lin_dst.weight', 'model.enc3.downlayer.linear.weight', 'model.enc3.downlayer.linear.bias', 'model.enc3.downlayer.down.0.weight', 'model.enc3.downlayer.down.0.bias', 'model.enc3.downlayer.down.1.weight', 'model.enc3.downlayer.down.1.bias', 'model.enc3.downlayer.down.1.running_mean', 'model.enc3.downlayer.down.1.running_var', 'model.enc3.downlayer.down.1.num_batches_tracked', 'model.enc3.pconv.linear_up.weight', 'model.enc3.pconv.linear_up.bias', 'model.enc3.pconv.attn.lins.0.weight', 'model.enc3.pconv.attn.lins.0.bias', 'model.enc3.pconv.attn.lins.1.weight', 'model.enc3.pconv.attn.lins.1.bias', 'model.enc3.pconv.attn.norms.0.module.weight', 'model.enc3.pconv.attn.norms.0.module.bias', 'model.enc3.pconv.attn.norms.0.module.running_mean', 'model.enc3.pconv.attn.norms.0.module.running_var', 'model.enc3.pconv.attn.norms.0.module.num_batches_tracked', 'model.enc3.pconv.pos.lins.0.weight', 'model.enc3.pconv.pos.lins.0.bias', 'model.enc3.pconv.conv.pos_nn.lins.0.weight', 'model.enc3.pconv.conv.pos_nn.lins.0.bias', 'model.enc3.pconv.conv.attn_nn.lins.0.weight', 'model.enc3.pconv.conv.attn_nn.lins.0.bias', 'model.enc3.pconv.conv.attn_nn.lins.1.weight', 'model.enc3.pconv.conv.attn_nn.lins.1.bias', 'model.enc3.pconv.conv.attn_nn.norms.0.module.weight', 'model.enc3.pconv.conv.attn_nn.norms.0.module.bias', 'model.enc3.pconv.conv.attn_nn.norms.0.module.running_mean', 'model.enc3.pconv.conv.attn_nn.norms.0.module.running_var', 'model.enc3.pconv.conv.attn_nn.norms.0.module.num_batches_tracked', 'model.enc3.pconv.conv.lin.weight', 'model.enc3.pconv.conv.lin_src.weight', 'model.enc3.pconv.conv.lin_dst.weight', 'model.enc4.downlayer.linear.weight', 'model.enc4.downlayer.linear.bias', 'model.enc4.downlayer.down.0.weight', 'model.enc4.downlayer.down.0.bias', 'model.enc4.downlayer.down.1.weight', 'model.enc4.downlayer.down.1.bias', 'model.enc4.downlayer.down.1.running_mean', 'model.enc4.downlayer.down.1.running_var', 'model.enc4.downlayer.down.1.num_batches_tracked', 'model.enc4.pconv.linear_up.weight', 'model.enc4.pconv.linear_up.bias', 'model.enc4.pconv.attn.lins.0.weight', 'model.enc4.pconv.attn.lins.0.bias', 'model.enc4.pconv.attn.lins.1.weight', 'model.enc4.pconv.attn.lins.1.bias', 'model.enc4.pconv.attn.norms.0.module.weight', 'model.enc4.pconv.attn.norms.0.module.bias', 'model.enc4.pconv.attn.norms.0.module.running_mean', 'model.enc4.pconv.attn.norms.0.module.running_var', 'model.enc4.pconv.attn.norms.0.module.num_batches_tracked', 'model.enc4.pconv.pos.lins.0.weight', 'model.enc4.pconv.pos.lins.0.bias', 'model.enc4.pconv.conv.pos_nn.lins.0.weight', 'model.enc4.pconv.conv.pos_nn.lins.0.bias', 'model.enc4.pconv.conv.attn_nn.lins.0.weight', 'model.enc4.pconv.conv.attn_nn.lins.0.bias', 'model.enc4.pconv.conv.attn_nn.lins.1.weight', 'model.enc4.pconv.conv.attn_nn.lins.1.bias', 'model.enc4.pconv.conv.attn_nn.norms.0.module.weight', 'model.enc4.pconv.conv.attn_nn.norms.0.module.bias', 'model.enc4.pconv.conv.attn_nn.norms.0.module.running_mean', 'model.enc4.pconv.conv.attn_nn.norms.0.module.running_var', 'model.enc4.pconv.conv.attn_nn.norms.0.module.num_batches_tracked', 'model.enc4.pconv.conv.lin.weight', 'model.enc4.pconv.conv.lin_src.weight', 'model.enc4.pconv.conv.lin_dst.weight', 'model.linear_mid.weight', 'model.linear_mid.bias', 'model.pconv_mid.linear_up.weight', 'model.pconv_mid.linear_up.bias', 'model.pconv_mid.attn.lins.0.weight', 'model.pconv_mid.attn.lins.0.bias', 'model.pconv_mid.attn.lins.1.weight', 'model.pconv_mid.attn.lins.1.bias', 'model.pconv_mid.attn.norms.0.module.weight', 'model.pconv_mid.attn.norms.0.module.bias', 'model.pconv_mid.attn.norms.0.module.running_mean', 'model.pconv_mid.attn.norms.0.module.running_var', 'model.pconv_mid.attn.norms.0.module.num_batches_tracked', 'model.pconv_mid.pos.lins.0.weight', 'model.pconv_mid.pos.lins.0.bias', 'model.pconv_mid.conv.pos_nn.lins.0.weight', 'model.pconv_mid.conv.pos_nn.lins.0.bias', 'model.pconv_mid.conv.attn_nn.lins.0.weight', 'model.pconv_mid.conv.attn_nn.lins.0.bias', 'model.pconv_mid.conv.attn_nn.lins.1.weight', 'model.pconv_mid.conv.attn_nn.lins.1.bias', 'model.pconv_mid.conv.attn_nn.norms.0.module.weight', 'model.pconv_mid.conv.attn_nn.norms.0.module.bias', 'model.pconv_mid.conv.attn_nn.norms.0.module.running_mean', 'model.pconv_mid.conv.attn_nn.norms.0.module.running_var', 'model.pconv_mid.conv.attn_nn.norms.0.module.num_batches_tracked', 'model.pconv_mid.conv.lin.weight', 'model.pconv_mid.conv.lin_src.weight', 'model.pconv_mid.conv.lin_dst.weight', 'model.dec1.uplayer.linear1.weight', 'model.dec1.uplayer.linear1.bias', 'model.dec1.uplayer.linear2.weight', 'model.dec1.uplayer.linear2.bias', 'model.dec1.pconv.linear_up.weight', 'model.dec1.pconv.linear_up.bias', 'model.dec1.pconv.attn.lins.0.weight', 'model.dec1.pconv.attn.lins.0.bias', 'model.dec1.pconv.attn.lins.1.weight', 'model.dec1.pconv.attn.lins.1.bias', 'model.dec1.pconv.attn.norms.0.module.weight', 'model.dec1.pconv.attn.norms.0.module.bias', 'model.dec1.pconv.attn.norms.0.module.running_mean', 'model.dec1.pconv.attn.norms.0.module.running_var', 'model.dec1.pconv.attn.norms.0.module.num_batches_tracked', 'model.dec1.pconv.pos.lins.0.weight', 'model.dec1.pconv.pos.lins.0.bias', 'model.dec1.pconv.conv.pos_nn.lins.0.weight', 'model.dec1.pconv.conv.pos_nn.lins.0.bias', 'model.dec1.pconv.conv.attn_nn.lins.0.weight', 'model.dec1.pconv.conv.attn_nn.lins.0.bias', 'model.dec1.pconv.conv.attn_nn.lins.1.weight', 'model.dec1.pconv.conv.attn_nn.lins.1.bias', 'model.dec1.pconv.conv.attn_nn.norms.0.module.weight', 'model.dec1.pconv.conv.attn_nn.norms.0.module.bias', 'model.dec1.pconv.conv.attn_nn.norms.0.module.running_mean', 'model.dec1.pconv.conv.attn_nn.norms.0.module.running_var', 'model.dec1.pconv.conv.attn_nn.norms.0.module.num_batches_tracked', 'model.dec1.pconv.conv.lin.weight', 'model.dec1.pconv.conv.lin_src.weight', 'model.dec1.pconv.conv.lin_dst.weight', 'model.dec2.uplayer.linear1.weight', 'model.dec2.uplayer.linear1.bias', 'model.dec2.uplayer.linear2.weight', 'model.dec2.uplayer.linear2.bias', 'model.dec2.pconv.linear_up.weight', 'model.dec2.pconv.linear_up.bias', 'model.dec2.pconv.attn.lins.0.weight', 'model.dec2.pconv.attn.lins.0.bias', 'model.dec2.pconv.attn.lins.1.weight', 'model.dec2.pconv.attn.lins.1.bias', 'model.dec2.pconv.attn.norms.0.module.weight', 'model.dec2.pconv.attn.norms.0.module.bias', 'model.dec2.pconv.attn.norms.0.module.running_mean', 'model.dec2.pconv.attn.norms.0.module.running_var', 'model.dec2.pconv.attn.norms.0.module.num_batches_tracked', 'model.dec2.pconv.pos.lins.0.weight', 'model.dec2.pconv.pos.lins.0.bias', 'model.dec2.pconv.conv.pos_nn.lins.0.weight', 'model.dec2.pconv.conv.pos_nn.lins.0.bias', 'model.dec2.pconv.conv.attn_nn.lins.0.weight', 'model.dec2.pconv.conv.attn_nn.lins.0.bias', 'model.dec2.pconv.conv.attn_nn.lins.1.weight', 'model.dec2.pconv.conv.attn_nn.lins.1.bias', 'model.dec2.pconv.conv.attn_nn.norms.0.module.weight', 'model.dec2.pconv.conv.attn_nn.norms.0.module.bias', 'model.dec2.pconv.conv.attn_nn.norms.0.module.running_mean', 'model.dec2.pconv.conv.attn_nn.norms.0.module.running_var', 'model.dec2.pconv.conv.attn_nn.norms.0.module.num_batches_tracked', 'model.dec2.pconv.conv.lin.weight', 'model.dec2.pconv.conv.lin_src.weight', 'model.dec2.pconv.conv.lin_dst.weight', 'model.dec3.uplayer.linear1.weight', 'model.dec3.uplayer.linear1.bias', 'model.dec3.uplayer.linear2.weight', 'model.dec3.uplayer.linear2.bias', 'model.dec3.pconv.linear_up.weight', 'model.dec3.pconv.linear_up.bias', 'model.dec3.pconv.attn.lins.0.weight', 'model.dec3.pconv.attn.lins.0.bias', 'model.dec3.pconv.attn.lins.1.weight', 'model.dec3.pconv.attn.lins.1.bias', 'model.dec3.pconv.attn.norms.0.module.weight', 'model.dec3.pconv.attn.norms.0.module.bias', 'model.dec3.pconv.attn.norms.0.module.running_mean', 'model.dec3.pconv.attn.norms.0.module.running_var', 'model.dec3.pconv.attn.norms.0.module.num_batches_tracked', 'model.dec3.pconv.pos.lins.0.weight', 'model.dec3.pconv.pos.lins.0.bias', 'model.dec3.pconv.conv.pos_nn.lins.0.weight', 'model.dec3.pconv.conv.pos_nn.lins.0.bias', 'model.dec3.pconv.conv.attn_nn.lins.0.weight', 'model.dec3.pconv.conv.attn_nn.lins.0.bias', 'model.dec3.pconv.conv.attn_nn.lins.1.weight', 'model.dec3.pconv.conv.attn_nn.lins.1.bias', 'model.dec3.pconv.conv.attn_nn.norms.0.module.weight', 'model.dec3.pconv.conv.attn_nn.norms.0.module.bias', 'model.dec3.pconv.conv.attn_nn.norms.0.module.running_mean', 'model.dec3.pconv.conv.attn_nn.norms.0.module.running_var', 'model.dec3.pconv.conv.attn_nn.norms.0.module.num_batches_tracked', 'model.dec3.pconv.conv.lin.weight', 'model.dec3.pconv.conv.lin_src.weight', 'model.dec3.pconv.conv.lin_dst.weight', 'model.dec4.uplayer.linear1.weight', 'model.dec4.uplayer.linear1.bias', 'model.dec4.uplayer.linear2.weight', 'model.dec4.uplayer.linear2.bias', 'model.dec4.pconv.linear_up.weight', 'model.dec4.pconv.linear_up.bias', 'model.dec4.pconv.attn.lins.0.weight', 'model.dec4.pconv.attn.lins.0.bias', 'model.dec4.pconv.attn.lins.1.weight', 'model.dec4.pconv.attn.lins.1.bias', 'model.dec4.pconv.attn.norms.0.module.weight', 'model.dec4.pconv.attn.norms.0.module.bias', 'model.dec4.pconv.attn.norms.0.module.running_mean', 'model.dec4.pconv.attn.norms.0.module.running_var', 'model.dec4.pconv.attn.norms.0.module.num_batches_tracked', 'model.dec4.pconv.pos.lins.0.weight', 'model.dec4.pconv.pos.lins.0.bias', 'model.dec4.pconv.conv.pos_nn.lins.0.weight', 'model.dec4.pconv.conv.pos_nn.lins.0.bias', 'model.dec4.pconv.conv.attn_nn.lins.0.weight', 'model.dec4.pconv.conv.attn_nn.lins.0.bias', 'model.dec4.pconv.conv.attn_nn.lins.1.weight', 'model.dec4.pconv.conv.attn_nn.lins.1.bias', 'model.dec4.pconv.conv.attn_nn.norms.0.module.weight', 'model.dec4.pconv.conv.attn_nn.norms.0.module.bias', 'model.dec4.pconv.conv.attn_nn.norms.0.module.running_mean', 'model.dec4.pconv.conv.attn_nn.norms.0.module.running_var', 'model.dec4.pconv.conv.attn_nn.norms.0.module.num_batches_tracked', 'model.dec4.pconv.conv.lin.weight', 'model.dec4.pconv.conv.lin_src.weight', 'model.dec4.pconv.conv.lin_dst.weight', 'model.linear_out.weight', 'model.linear_out.bias', 'model.output_head.0.weight', 'model.output_head.0.bias', 'model.output_head.1.weight', 'model.output_head.1.bias', 'model.output_head.1.running_mean', 'model.output_head.1.running_var', 'model.output_head.1.num_batches_tracked', 'model.output_head.3.weight', 'model.output_head.3.bias', 'model.output_head.4.weight', 'model.output_head.4.bias', 'model.output_head.4.running_mean', 'model.output_head.4.running_var', 'model.output_head.4.num_batches_tracked'])"
      ]
     },
     "execution_count": 7,
     "metadata": {},
     "output_type": "execute_result"
    }
   ],
   "source": [
    "state_dict.keys()"
   ]
  },
  {
   "cell_type": "code",
   "execution_count": 4,
   "metadata": {},
   "outputs": [
    {
     "data": {
      "text/plain": [
       "Lightning_GNN(\n",
       "  (model): TransformerGNN(\n",
       "    (linear): Linear(in_features=3, out_features=32, bias=True)\n",
       "    (pconv_in): PointTrans_Layer(\n",
       "      (linear_up): Linear(in_features=32, out_features=32, bias=True)\n",
       "      (attn): MLP(32, 32, 32)\n",
       "      (pos): MLP(3, 32)\n",
       "      (conv): PointTransformerConv(32, 32)\n",
       "    )\n",
       "    (enc1): Enc_block(\n",
       "      (downlayer): PointTrans_Layer_down(\n",
       "        (linear): Linear(in_features=32, out_features=64, bias=True)\n",
       "        (down): Sequential(\n",
       "          (0): Linear(in_features=32, out_features=64, bias=True)\n",
       "          (1): BatchNorm1d(64, eps=1e-05, momentum=0.1, affine=True, track_running_stats=True)\n",
       "          (2): ReLU()\n",
       "        )\n",
       "      )\n",
       "      (pconv): PointTrans_Layer(\n",
       "        (linear_up): Linear(in_features=64, out_features=64, bias=True)\n",
       "        (attn): MLP(64, 64, 64)\n",
       "        (pos): MLP(3, 64)\n",
       "        (conv): PointTransformerConv(64, 64)\n",
       "      )\n",
       "    )\n",
       "    (enc2): Enc_block(\n",
       "      (downlayer): PointTrans_Layer_down(\n",
       "        (linear): Linear(in_features=64, out_features=128, bias=True)\n",
       "        (down): Sequential(\n",
       "          (0): Linear(in_features=64, out_features=128, bias=True)\n",
       "          (1): BatchNorm1d(128, eps=1e-05, momentum=0.1, affine=True, track_running_stats=True)\n",
       "          (2): ReLU()\n",
       "        )\n",
       "      )\n",
       "      (pconv): PointTrans_Layer(\n",
       "        (linear_up): Linear(in_features=128, out_features=128, bias=True)\n",
       "        (attn): MLP(128, 128, 128)\n",
       "        (pos): MLP(3, 128)\n",
       "        (conv): PointTransformerConv(128, 128)\n",
       "      )\n",
       "    )\n",
       "    (enc3): Enc_block(\n",
       "      (downlayer): PointTrans_Layer_down(\n",
       "        (linear): Linear(in_features=128, out_features=256, bias=True)\n",
       "        (down): Sequential(\n",
       "          (0): Linear(in_features=128, out_features=256, bias=True)\n",
       "          (1): BatchNorm1d(256, eps=1e-05, momentum=0.1, affine=True, track_running_stats=True)\n",
       "          (2): ReLU()\n",
       "        )\n",
       "      )\n",
       "      (pconv): PointTrans_Layer(\n",
       "        (linear_up): Linear(in_features=256, out_features=256, bias=True)\n",
       "        (attn): MLP(256, 256, 256)\n",
       "        (pos): MLP(3, 256)\n",
       "        (conv): PointTransformerConv(256, 256)\n",
       "      )\n",
       "    )\n",
       "    (enc4): Enc_block(\n",
       "      (downlayer): PointTrans_Layer_down(\n",
       "        (linear): Linear(in_features=256, out_features=512, bias=True)\n",
       "        (down): Sequential(\n",
       "          (0): Linear(in_features=256, out_features=512, bias=True)\n",
       "          (1): BatchNorm1d(512, eps=1e-05, momentum=0.1, affine=True, track_running_stats=True)\n",
       "          (2): ReLU()\n",
       "        )\n",
       "      )\n",
       "      (pconv): PointTrans_Layer(\n",
       "        (linear_up): Linear(in_features=512, out_features=512, bias=True)\n",
       "        (attn): MLP(512, 512, 512)\n",
       "        (pos): MLP(3, 512)\n",
       "        (conv): PointTransformerConv(512, 512)\n",
       "      )\n",
       "    )\n",
       "    (linear_mid): Linear(in_features=512, out_features=512, bias=True)\n",
       "    (pconv_mid): PointTrans_Layer(\n",
       "      (linear_up): Linear(in_features=512, out_features=512, bias=True)\n",
       "      (attn): MLP(512, 512, 512)\n",
       "      (pos): MLP(3, 512)\n",
       "      (conv): PointTransformerConv(512, 512)\n",
       "    )\n",
       "    (dec1): Dec_block(\n",
       "      (uplayer): PointTrans_Layer_up(\n",
       "        (linear1): Linear(in_features=512, out_features=256, bias=True)\n",
       "        (linear2): Linear(in_features=256, out_features=256, bias=True)\n",
       "      )\n",
       "      (pconv): PointTrans_Layer(\n",
       "        (linear_up): Linear(in_features=256, out_features=256, bias=True)\n",
       "        (attn): MLP(256, 256, 256)\n",
       "        (pos): MLP(3, 256)\n",
       "        (conv): PointTransformerConv(256, 256)\n",
       "      )\n",
       "    )\n",
       "    (dec2): Dec_block(\n",
       "      (uplayer): PointTrans_Layer_up(\n",
       "        (linear1): Linear(in_features=256, out_features=128, bias=True)\n",
       "        (linear2): Linear(in_features=128, out_features=128, bias=True)\n",
       "      )\n",
       "      (pconv): PointTrans_Layer(\n",
       "        (linear_up): Linear(in_features=128, out_features=128, bias=True)\n",
       "        (attn): MLP(128, 128, 128)\n",
       "        (pos): MLP(3, 128)\n",
       "        (conv): PointTransformerConv(128, 128)\n",
       "      )\n",
       "    )\n",
       "    (dec3): Dec_block(\n",
       "      (uplayer): PointTrans_Layer_up(\n",
       "        (linear1): Linear(in_features=128, out_features=64, bias=True)\n",
       "        (linear2): Linear(in_features=64, out_features=64, bias=True)\n",
       "      )\n",
       "      (pconv): PointTrans_Layer(\n",
       "        (linear_up): Linear(in_features=64, out_features=64, bias=True)\n",
       "        (attn): MLP(64, 64, 64)\n",
       "        (pos): MLP(3, 64)\n",
       "        (conv): PointTransformerConv(64, 64)\n",
       "      )\n",
       "    )\n",
       "    (dec4): Dec_block(\n",
       "      (uplayer): PointTrans_Layer_up(\n",
       "        (linear1): Linear(in_features=64, out_features=32, bias=True)\n",
       "        (linear2): Linear(in_features=32, out_features=32, bias=True)\n",
       "      )\n",
       "      (pconv): PointTrans_Layer(\n",
       "        (linear_up): Linear(in_features=32, out_features=32, bias=True)\n",
       "        (attn): MLP(32, 32, 32)\n",
       "        (pos): MLP(3, 32)\n",
       "        (conv): PointTransformerConv(32, 32)\n",
       "      )\n",
       "    )\n",
       "    (linear_out): Linear(in_features=32, out_features=13, bias=True)\n",
       "    (output_head): Sequential(\n",
       "      (0): Linear(in_features=32, out_features=32, bias=True)\n",
       "      (1): BatchNorm1d(32, eps=1e-05, momentum=0.1, affine=True, track_running_stats=True)\n",
       "      (2): ReLU()\n",
       "      (3): Linear(in_features=32, out_features=14, bias=True)\n",
       "      (4): BatchNorm1d(14, eps=1e-05, momentum=0.1, affine=True, track_running_stats=True)\n",
       "      (5): ReLU()\n",
       "    )\n",
       "  )\n",
       "  (loss_fn): CrossEntropyLoss()\n",
       ")"
      ]
     },
     "execution_count": 4,
     "metadata": {},
     "output_type": "execute_result"
    }
   ],
   "source": [
    "# Model setup\n",
    "GNN_model = Lightning_GNN(config=config)\n",
    "\n",
    "GNN_model.load_state_dict(torch.load('/home/lars/output_seg/out_2/epoch=1470-train_loss=0.30.ckpt')['state_dict'])\n",
    "\n",
    "GNN_model.to('cpu')"
   ]
  },
  {
   "cell_type": "code",
   "execution_count": 5,
   "metadata": {},
   "outputs": [
    {
     "name": "stderr",
     "output_type": "stream",
     "text": [
      "GPU available: True (cuda), used: False\n",
      "TPU available: False, using: 0 TPU cores\n",
      "HPU available: False, using: 0 HPUs\n",
      "/home/lars/anaconda3/envs/PCloud/lib/python3.12/site-packages/lightning/pytorch/trainer/setup.py:177: GPU available but not used. You can set it by doing `Trainer(accelerator='gpu')`.\n",
      "/home/lars/anaconda3/envs/PCloud/lib/python3.12/site-packages/lightning/pytorch/trainer/connectors/logger_connector/logger_connector.py:75: Starting from v1.9.0, `tensorboardX` has been removed as a dependency of the `lightning.pytorch` package, due to potential conflicts with other packages in the ML ecosystem. For this reason, `logger=True` will use `CSVLogger` as the default logger, unless the `tensorboard` or `tensorboardX` packages are found. Please `pip install lightning[extra]` or one of them to enable TensorBoard support by default\n"
     ]
    },
    {
     "name": "stdout",
     "output_type": "stream",
     "text": [
      "Testing DataLoader 0: 100%|██████████| 34/34 [00:36<00:00,  0.93it/s]\n",
      "────────────────────────────────────────────────────────────────────────────────────────────────────────────────────────\n",
      "       Test metric             DataLoader 0\n",
      "────────────────────────────────────────────────────────────────────────────────────────────────────────────────────────\n",
      "        test_acc            0.7687121033668518\n",
      "────────────────────────────────────────────────────────────────────────────────────────────────────────────────────────\n"
     ]
    },
    {
     "data": {
      "text/plain": [
       "[{'test_acc': 0.7687121033668518}]"
      ]
     },
     "execution_count": 5,
     "metadata": {},
     "output_type": "execute_result"
    }
   ],
   "source": [
    "# Test\n",
    "trainer = pl.Trainer(max_epochs=1,\n",
    "                     accelerator='cpu',\n",
    "                     log_every_n_steps=1)\n",
    "\n",
    "trainer.test(GNN_model,\n",
    "            dataloaders=test_loader) "
   ]
  }
 ],
 "metadata": {
  "kernelspec": {
   "display_name": "PCloud",
   "language": "python",
   "name": "python3"
  },
  "language_info": {
   "codemirror_mode": {
    "name": "ipython",
    "version": 3
   },
   "file_extension": ".py",
   "mimetype": "text/x-python",
   "name": "python",
   "nbconvert_exporter": "python",
   "pygments_lexer": "ipython3",
   "version": "3.12.2"
  }
 },
 "nbformat": 4,
 "nbformat_minor": 2
}
