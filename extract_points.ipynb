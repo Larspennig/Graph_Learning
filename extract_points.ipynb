{
 "cells": [
  {
   "cell_type": "code",
   "execution_count": 2,
   "metadata": {},
   "outputs": [],
   "source": [
    "import torch \n",
    "import torch_geometric as tg\n",
    "import numpy as np"
   ]
  },
  {
   "cell_type": "code",
   "execution_count": 3,
   "metadata": {},
   "outputs": [],
   "source": [
    "enc_1_data = torch.load('data_enc_1.pt')\n",
    "enc_2_data = torch.load('data_enc_2.pt')\n",
    "enc_3_data = torch.load('data_enc_3.pt')"
   ]
  },
  {
   "cell_type": "code",
   "execution_count": 4,
   "metadata": {},
   "outputs": [
    {
     "data": {
      "text/plain": [
       "tensor([24., 25., 27., 16.,  1.])"
      ]
     },
     "execution_count": 4,
     "metadata": {},
     "output_type": "execute_result"
    }
   ],
   "source": [
    "enc_1_data.y"
   ]
  },
  {
   "cell_type": "code",
   "execution_count": 34,
   "metadata": {},
   "outputs": [],
   "source": [
    "desk = enc_3_data.pos[enc_3_data.batch == 3]\n",
    "\n",
    "min_desk = (enc_3_data.batch == 3).nonzero().min()\n",
    "max_desk = (enc_3_data.batch == 3).nonzero().max()"
   ]
  },
  {
   "cell_type": "code",
   "execution_count": 37,
   "metadata": {},
   "outputs": [
    {
     "data": {
      "text/plain": [
       "tensor(768)"
      ]
     },
     "execution_count": 37,
     "metadata": {},
     "output_type": "execute_result"
    }
   ],
   "source": [
    "min_desk"
   ]
  },
  {
   "cell_type": "code",
   "execution_count": 38,
   "metadata": {},
   "outputs": [],
   "source": [
    "edges = enc_3_data.edge_index[:,enc_3_data.edge_index[1,:] == 770]"
   ]
  },
  {
   "cell_type": "code",
   "execution_count": 40,
   "metadata": {},
   "outputs": [
    {
     "data": {
      "text/plain": [
       "tensor([[ 873,  944, 1023,  900,  954,  997,  994, 1016,  892,  874,  989,  806,\n",
       "          969,  888,  984,  777,  980,  926,  840,  796,  902,  801,  894,  936,\n",
       "          927,  948,  810,  901,  967, 1007,  781,  947],\n",
       "        [ 770,  770,  770,  770,  770,  770,  770,  770,  770,  770,  770,  770,\n",
       "          770,  770,  770,  770,  770,  770,  770,  770,  770,  770,  770,  770,\n",
       "          770,  770,  770,  770,  770,  770,  770,  770]])"
      ]
     },
     "execution_count": 40,
     "metadata": {},
     "output_type": "execute_result"
    }
   ],
   "source": [
    "edges"
   ]
  },
  {
   "cell_type": "code",
   "execution_count": 41,
   "metadata": {},
   "outputs": [],
   "source": [
    "attn_points = enc_3_data.pos[edges[0,:]]"
   ]
  },
  {
   "cell_type": "code",
   "execution_count": 42,
   "metadata": {},
   "outputs": [],
   "source": [
    "attn_points = np.array(attn_points)\n",
    "np.savetxt('attn_points.txt', attn_points, delimiter=' ')\n",
    "desk = np.array(desk)\n",
    "np.savetxt('desk.txt', desk, delimiter=' ')"
   ]
  },
  {
   "cell_type": "code",
   "execution_count": 16,
   "metadata": {},
   "outputs": [],
   "source": [
    "curr_point = np.array(enc_1_data.pos[3073])\n",
    "np.savetxt('curr_point.txt', curr_point, delimiter=' ')"
   ]
  }
 ],
 "metadata": {
  "kernelspec": {
   "display_name": "PCloud2",
   "language": "python",
   "name": "python3"
  },
  "language_info": {
   "codemirror_mode": {
    "name": "ipython",
    "version": 3
   },
   "file_extension": ".py",
   "mimetype": "text/x-python",
   "name": "python",
   "nbconvert_exporter": "python",
   "pygments_lexer": "ipython3",
   "version": "3.12.2"
  }
 },
 "nbformat": 4,
 "nbformat_minor": 2
}
